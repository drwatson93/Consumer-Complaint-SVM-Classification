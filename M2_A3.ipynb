{
  "nbformat": 4,
  "nbformat_minor": 0,
  "metadata": {
    "colab": {
      "name": "M2-A3",
      "provenance": [],
      "collapsed_sections": [],
      "authorship_tag": "ABX9TyMydf9o53r6gpIrJQaWu9ip",
      "include_colab_link": true
    },
    "kernelspec": {
      "name": "python3",
      "display_name": "Python 3"
    },
    "language_info": {
      "name": "python"
    }
  },
  "cells": [
    {
      "cell_type": "markdown",
      "metadata": {
        "id": "view-in-github",
        "colab_type": "text"
      },
      "source": [
        "<a href=\"https://colab.research.google.com/github/drwatson93/M2-A3/blob/main/M2_A3.ipynb\" target=\"_parent\"><img src=\"https://colab.research.google.com/assets/colab-badge.svg\" alt=\"Open In Colab\"/></a>"
      ]
    },
    {
      "cell_type": "markdown",
      "metadata": {
        "id": "6xbACw4LvSeM"
      },
      "source": [
        "This assignment is to practice SVM classification, PCA dimensionality reduction, and multi-classtext classification.The goal is to select and train a classificationmodel for “Consumer Complaint Database”. You can download the CSVfile from this link: https://catalog.data.gov/dataset/consumer-complaint-database\n",
        "\n",
        "1. Load data and remove all the rows before year “2021” (filter based on “Datereceived”). This dataset is huge,so we keep only year 2021 to make it a reasonablesize for this assignment.\n",
        "\n",
        "2. Also drop any row thathas the following products(compositeproducts)\n",
        "\n",
        "*   a.'Credit reporting, credit repair services, or other personal consumer reports'\n",
        "* b.'Credit card or prepaid card'\n",
        "* c.'Checking or savings account'\n",
        "* d.'Bank account or service'\n",
        "* e.'Money transfer, virtual currency, or money service'\n",
        "* f.'Payday loan, title loan, or personal loan'\n",
        "\n",
        "3. Remove every columnexcept “Product”and“Consumer complaint narrative”. We want to predict “product”from “Consumer complaint narrative” text.\n",
        "\n",
        "4. Plot a bar chart to shows the distribution of samples by product. Isthe dataset balanced?\n",
        "\n",
        "5. The main issue for this job is how to encode text to a vector of numbers. We will discus different encoding methodsin module 4 of this program, butfor now we will use “TD-IDF”method. Wewill use the encoder from “sklearn”blindly. If you are interested to learn more, you can read this article: https://medium.com/analytics-vidhya/tf-idf-term-frequency-technique-easiest-explanation-for-text-classification-in-nlp-with-code-8ca3912e58c3\n",
        "\n",
        "6. Use “TfidfVectorizer”from “sklearn.feature_extraction.text”to extract “td-idf”vectorfor “Consumer complaint narrative”. Use the following parameters:\n",
        "\n",
        "*   a.stop_words='english'\n",
        "*   b.sublinear_tf=True\n",
        "* c.ngram_range=(1, 2)\n",
        "\n",
        "7. Use the“td-idf”vector as input features to your model(note how bigthe vector is). For the output,use product classes.\n",
        "\n",
        "8. Our goal is to train SVM classification models. Given the very high number of inputfeatures, it can be very slow (you can try to see it for yourself). Let’s use PCA to reduce the numberof dimensions significantly. Find the number of principal components to preserveminimum 90% variability in data. It may take a few minutes forPCA to run. If your computerhad memory issue, you coulduse IncrementalPCA.\n",
        "\n",
        "9. Try to find the best SVC model (using cross-validation). Try to find the best combination of the following hyperparameters. Don’t useGridSearchas it can be slow. Use your own logic to find the best combination by selecting some candidates smartly.Even though the dataset is not balanced, but you can still use “accuracy”for cross-validation(you can’t use “roc_auc”for multi-class).\n",
        "\n",
        "*   C\n",
        "*   Kernel\n",
        "* Gamma\n",
        "\n",
        "10. Report the accuracy of cross validationand compareit toaccuracy on training data. Do you see any sign of “underfitting”or “overfitting”?\n",
        "\n",
        "11. Print and plot confusionmatrix for theselectedmodel. Analyzethe result.\n",
        "\n"
      ]
    },
    {
      "cell_type": "code",
      "metadata": {
        "id": "gAT-h5bXvBNh"
      },
      "source": [
        "import pandas as pd\n",
        "import numpy as np\n",
        "import re\n",
        "import sklearn\n",
        "\n",
        "# to make this notebook's output stable across runs\n",
        "RANDOM_STATE = 42\n",
        "np.random.seed(RANDOM_STATE)\n",
        "\n",
        "from sklearn.feature_extraction.text import TfidfVectorizer\n",
        "from sklearn.decomposition import PCA"
      ],
      "execution_count": 78,
      "outputs": []
    },
    {
      "cell_type": "code",
      "metadata": {
        "id": "x2VRVYOUx9po"
      },
      "source": [
        "#1. Load data and remove all the rows before year “2021” (filter based on “Datereceived”). This dataset is huge,so we keep only year 2021 to make it a reasonablesize for this assignment.\n",
        "db_link = \"https://files.consumerfinance.gov/ccdb/complaints.csv.zip\"\n",
        "complaint_df = pd.read_csv(db_link)"
      ],
      "execution_count": 38,
      "outputs": []
    },
    {
      "cell_type": "code",
      "metadata": {
        "colab": {
          "base_uri": "https://localhost:8080/",
          "height": 493
        },
        "id": "DijocB738ZFq",
        "outputId": "a2be4d7d-3850-4019-d00e-4ced0ec1ebc7"
      },
      "source": [
        "complaint_df['Date received'] = pd.to_datetime(complaint_df['Date received'])\n",
        "is_2021 = complaint_df['Date received'].dt.year == 2021\n",
        "complaint_df_2021 = complaint_df[is_2021]\n",
        "complaint_df_2021.head()"
      ],
      "execution_count": 39,
      "outputs": [
        {
          "output_type": "execute_result",
          "data": {
            "text/html": [
              "<div>\n",
              "<style scoped>\n",
              "    .dataframe tbody tr th:only-of-type {\n",
              "        vertical-align: middle;\n",
              "    }\n",
              "\n",
              "    .dataframe tbody tr th {\n",
              "        vertical-align: top;\n",
              "    }\n",
              "\n",
              "    .dataframe thead th {\n",
              "        text-align: right;\n",
              "    }\n",
              "</style>\n",
              "<table border=\"1\" class=\"dataframe\">\n",
              "  <thead>\n",
              "    <tr style=\"text-align: right;\">\n",
              "      <th></th>\n",
              "      <th>Date received</th>\n",
              "      <th>Product</th>\n",
              "      <th>Sub-product</th>\n",
              "      <th>Issue</th>\n",
              "      <th>Sub-issue</th>\n",
              "      <th>Consumer complaint narrative</th>\n",
              "      <th>Company public response</th>\n",
              "      <th>Company</th>\n",
              "      <th>State</th>\n",
              "      <th>ZIP code</th>\n",
              "      <th>Tags</th>\n",
              "      <th>Consumer consent provided?</th>\n",
              "      <th>Submitted via</th>\n",
              "      <th>Date sent to company</th>\n",
              "      <th>Company response to consumer</th>\n",
              "      <th>Timely response?</th>\n",
              "      <th>Consumer disputed?</th>\n",
              "      <th>Complaint ID</th>\n",
              "    </tr>\n",
              "  </thead>\n",
              "  <tbody>\n",
              "    <tr>\n",
              "      <th>9</th>\n",
              "      <td>2021-03-26</td>\n",
              "      <td>Credit reporting, credit repair services, or o...</td>\n",
              "      <td>Credit reporting</td>\n",
              "      <td>Unable to get your credit report or credit score</td>\n",
              "      <td>Other problem getting your report or credit score</td>\n",
              "      <td>NaN</td>\n",
              "      <td>NaN</td>\n",
              "      <td>Experian Information Solutions Inc.</td>\n",
              "      <td>GA</td>\n",
              "      <td>303XX</td>\n",
              "      <td>NaN</td>\n",
              "      <td>NaN</td>\n",
              "      <td>Web</td>\n",
              "      <td>2021-03-26</td>\n",
              "      <td>In progress</td>\n",
              "      <td>Yes</td>\n",
              "      <td>NaN</td>\n",
              "      <td>4250366</td>\n",
              "    </tr>\n",
              "    <tr>\n",
              "      <th>15</th>\n",
              "      <td>2021-03-23</td>\n",
              "      <td>Money transfer, virtual currency, or money ser...</td>\n",
              "      <td>Foreign currency exchange</td>\n",
              "      <td>Fraud or scam</td>\n",
              "      <td>NaN</td>\n",
              "      <td>NaN</td>\n",
              "      <td>NaN</td>\n",
              "      <td>Square Inc.</td>\n",
              "      <td>CA</td>\n",
              "      <td>91387</td>\n",
              "      <td>NaN</td>\n",
              "      <td>NaN</td>\n",
              "      <td>Web</td>\n",
              "      <td>2021-03-23</td>\n",
              "      <td>Closed with explanation</td>\n",
              "      <td>Yes</td>\n",
              "      <td>NaN</td>\n",
              "      <td>4239229</td>\n",
              "    </tr>\n",
              "    <tr>\n",
              "      <th>30</th>\n",
              "      <td>2021-04-05</td>\n",
              "      <td>Credit reporting, credit repair services, or o...</td>\n",
              "      <td>Credit reporting</td>\n",
              "      <td>Incorrect information on your report</td>\n",
              "      <td>Personal information incorrect</td>\n",
              "      <td>NaN</td>\n",
              "      <td>NaN</td>\n",
              "      <td>National Consumer Telecom &amp; Utilities Exchange...</td>\n",
              "      <td>FL</td>\n",
              "      <td>32818</td>\n",
              "      <td>NaN</td>\n",
              "      <td>NaN</td>\n",
              "      <td>Web</td>\n",
              "      <td>2021-04-05</td>\n",
              "      <td>Closed with explanation</td>\n",
              "      <td>Yes</td>\n",
              "      <td>NaN</td>\n",
              "      <td>4270994</td>\n",
              "    </tr>\n",
              "    <tr>\n",
              "      <th>38</th>\n",
              "      <td>2021-04-05</td>\n",
              "      <td>Credit reporting, credit repair services, or o...</td>\n",
              "      <td>Credit reporting</td>\n",
              "      <td>Incorrect information on your report</td>\n",
              "      <td>Information belongs to someone else</td>\n",
              "      <td>NaN</td>\n",
              "      <td>NaN</td>\n",
              "      <td>TRANSUNION INTERMEDIATE HOLDINGS, INC.</td>\n",
              "      <td>GA</td>\n",
              "      <td>310XX</td>\n",
              "      <td>NaN</td>\n",
              "      <td>NaN</td>\n",
              "      <td>Web</td>\n",
              "      <td>2021-04-05</td>\n",
              "      <td>In progress</td>\n",
              "      <td>Yes</td>\n",
              "      <td>NaN</td>\n",
              "      <td>4272430</td>\n",
              "    </tr>\n",
              "    <tr>\n",
              "      <th>39</th>\n",
              "      <td>2021-04-05</td>\n",
              "      <td>Credit reporting, credit repair services, or o...</td>\n",
              "      <td>Credit reporting</td>\n",
              "      <td>Incorrect information on your report</td>\n",
              "      <td>Information belongs to someone else</td>\n",
              "      <td>NaN</td>\n",
              "      <td>NaN</td>\n",
              "      <td>TRANSUNION INTERMEDIATE HOLDINGS, INC.</td>\n",
              "      <td>LA</td>\n",
              "      <td>70737</td>\n",
              "      <td>NaN</td>\n",
              "      <td>NaN</td>\n",
              "      <td>Web</td>\n",
              "      <td>2021-04-05</td>\n",
              "      <td>In progress</td>\n",
              "      <td>Yes</td>\n",
              "      <td>NaN</td>\n",
              "      <td>4272421</td>\n",
              "    </tr>\n",
              "  </tbody>\n",
              "</table>\n",
              "</div>"
            ],
            "text/plain": [
              "   Date received  ... Complaint ID\n",
              "9     2021-03-26  ...      4250366\n",
              "15    2021-03-23  ...      4239229\n",
              "30    2021-04-05  ...      4270994\n",
              "38    2021-04-05  ...      4272430\n",
              "39    2021-04-05  ...      4272421\n",
              "\n",
              "[5 rows x 18 columns]"
            ]
          },
          "metadata": {
            "tags": []
          },
          "execution_count": 39
        }
      ]
    },
    {
      "cell_type": "code",
      "metadata": {
        "colab": {
          "base_uri": "https://localhost:8080/"
        },
        "id": "NyoXabqcBAtN",
        "outputId": "34784971-5fce-459d-b630-a776c6cb72a9"
      },
      "source": [
        "#2. Also drop any row thathas the following products(compositeproducts)\n",
        "complaint_df_2021['Product'].unique()"
      ],
      "execution_count": 40,
      "outputs": [
        {
          "output_type": "execute_result",
          "data": {
            "text/plain": [
              "array(['Credit reporting, credit repair services, or other personal consumer reports',\n",
              "       'Money transfer, virtual currency, or money service',\n",
              "       'Credit card or prepaid card', 'Debt collection', 'Mortgage',\n",
              "       'Vehicle loan or lease', 'Checking or savings account',\n",
              "       'Payday loan, title loan, or personal loan', 'Student loan'],\n",
              "      dtype=object)"
            ]
          },
          "metadata": {
            "tags": []
          },
          "execution_count": 40
        }
      ]
    },
    {
      "cell_type": "code",
      "metadata": {
        "colab": {
          "base_uri": "https://localhost:8080/"
        },
        "id": "qjPpAUGsBxXd",
        "outputId": "bfda9a74-64df-4352-afeb-4160454b5351"
      },
      "source": [
        "product_to_drop = ['Credit reporting, credit repair services, or other personal consumer reports',\n",
        "                   'Credit card or prepaid card', \n",
        "                   'Checking or savings account', \n",
        "                   'Bank account or service', \n",
        "                   'Money transfer, virtual currency, or money service', \n",
        "                   'Payday loan, title loan, or personal loan']\n",
        "complaint_df_2021_filtered = complaint_df_2021[~complaint_df_2021['Product'].isin(product_to_drop)]\n",
        "complaint_df_2021_filtered['Product'].unique()"
      ],
      "execution_count": 41,
      "outputs": [
        {
          "output_type": "execute_result",
          "data": {
            "text/plain": [
              "array(['Debt collection', 'Mortgage', 'Vehicle loan or lease',\n",
              "       'Student loan'], dtype=object)"
            ]
          },
          "metadata": {
            "tags": []
          },
          "execution_count": 41
        }
      ]
    },
    {
      "cell_type": "code",
      "metadata": {
        "colab": {
          "base_uri": "https://localhost:8080/"
        },
        "id": "Uri-bTGSN-Rz",
        "outputId": "060cef34-5f44-4390-911b-95ce344c512a"
      },
      "source": [
        "#3.Remove every columnexcept “Product”and“Consumer complaint narrative”. We want to predict “product”from “Consumer complaint narrative” text.\n",
        "complaint_df_2021_filtered_final = complaint_df_2021_filtered[['Product','Consumer complaint narrative']]\n",
        "complaint_df_2021_filtered_final[\"Product\"].value_counts()"
      ],
      "execution_count": 42,
      "outputs": [
        {
          "output_type": "execute_result",
          "data": {
            "text/plain": [
              "Debt collection          16939\n",
              "Mortgage                  7169\n",
              "Vehicle loan or lease     1905\n",
              "Student loan              1056\n",
              "Name: Product, dtype: int64"
            ]
          },
          "metadata": {
            "tags": []
          },
          "execution_count": 42
        }
      ]
    },
    {
      "cell_type": "code",
      "metadata": {
        "colab": {
          "base_uri": "https://localhost:8080/",
          "height": 282
        },
        "id": "7GhbDX1ZRCNp",
        "outputId": "58451509-fb78-4015-8029-8362b0848d0e"
      },
      "source": [
        "# 4. Plot a bar chart to shows the distribution of samples by product. Isthe dataset balanced? \n",
        "complaint_df_2021_filtered_final.count().plot.bar(rot=0)"
      ],
      "execution_count": 43,
      "outputs": [
        {
          "output_type": "execute_result",
          "data": {
            "text/plain": [
              "<matplotlib.axes._subplots.AxesSubplot at 0x7fc653a8e410>"
            ]
          },
          "metadata": {
            "tags": []
          },
          "execution_count": 43
        },
        {
          "output_type": "display_data",
          "data": {
            "image/png": "[encoded data removed]",
            "text/plain": [
              "<Figure size 432x288 with 1 Axes>"
            ]
          },
          "metadata": {
            "tags": [],
            "needs_background": "light"
          }
        }
      ]
    },
    {
      "cell_type": "code",
      "metadata": {
        "colab": {
          "base_uri": "https://localhost:8080/"
        },
        "id": "-tbudFX6Hcpl",
        "outputId": "14689843-7908-49c4-a3f0-9993c9db4d00"
      },
      "source": [
        "complaint_df_2021_filtered_final.replace(r'^\\s+$', np.nan, regex=True)\n",
        "complaint_df_2021_filtered_final['Consumer complaint narrative'].fillna('No Comment', inplace=True)\n",
        "complaint_df_2021_filtered_final['Consumer complaint narrative']"
      ],
      "execution_count": 59,
      "outputs": [
        {
          "output_type": "stream",
          "text": [
            "/usr/local/lib/python3.7/dist-packages/pandas/core/series.py:4536: SettingWithCopyWarning: \n",
            "A value is trying to be set on a copy of a slice from a DataFrame\n",
            "\n",
            "See the caveats in the documentation: https://pandas.pydata.org/pandas-docs/stable/user_guide/indexing.html#returning-a-view-versus-a-copy\n",
            "  downcast=downcast,\n"
          ],
          "name": "stderr"
        },
        {
          "output_type": "execute_result",
          "data": {
            "text/plain": [
              "89        No Comment\n",
              "96        No Comment\n",
              "389       No Comment\n",
              "407       No Comment\n",
              "832       No Comment\n",
              "             ...    \n",
              "807026    No Comment\n",
              "807038    No Comment\n",
              "807056    No Comment\n",
              "807061    No Comment\n",
              "807067    No Comment\n",
              "Name: Consumer complaint narrative, Length: 27069, dtype: object"
            ]
          },
          "metadata": {
            "tags": []
          },
          "execution_count": 59
        }
      ]
    },
    {
      "cell_type": "code",
      "metadata": {
        "colab": {
          "base_uri": "https://localhost:8080/"
        },
        "id": "liJqsyO5E3Bi",
        "outputId": "28b34bf9-bcd6-48b0-c13a-9deb691035b3"
      },
      "source": [
        "vectorizer = TfidfVectorizer(stop_words='english', sublinear_tf=True, ngram_range=(1,2))\n",
        "X_complaint = vectorizer.fit_transform(complaint_df_2021_filtered_final['Consumer complaint narrative'])\n",
        "#print(vectorizer.get_feature_names())\n",
        "print(X_complaint.shape)"
      ],
      "execution_count": 73,
      "outputs": [
        {
          "output_type": "stream",
          "text": [
            "(27069, 322861)\n"
          ],
          "name": "stdout"
        }
      ]
    },
    {
      "cell_type": "code",
      "metadata": {
        "colab": {
          "base_uri": "https://localhost:8080/",
          "height": 323
        },
        "id": "Sa6HLb_yXDJd",
        "outputId": "4caa3622-219e-4511-cafb-b8bf524e22be"
      },
      "source": [
        "pca = PCA(n_components = 2, random_state=RANDOM_STATE)\n",
        "X2D = pca.fit_transform(X_complaint)"
      ],
      "execution_count": 80,
      "outputs": [
        {
          "output_type": "error",
          "ename": "TypeError",
          "evalue": "ignored",
          "traceback": [
            "\u001b[0;31m---------------------------------------------------------------------------\u001b[0m",
            "\u001b[0;31mTypeError\u001b[0m                                 Traceback (most recent call last)",
            "\u001b[0;32m<ipython-input-80-94542de0ef77>\u001b[0m in \u001b[0;36m<module>\u001b[0;34m()\u001b[0m\n\u001b[1;32m      1\u001b[0m \u001b[0mpca\u001b[0m \u001b[0;34m=\u001b[0m \u001b[0mPCA\u001b[0m\u001b[0;34m(\u001b[0m\u001b[0mn_components\u001b[0m \u001b[0;34m=\u001b[0m \u001b[0;36m2\u001b[0m\u001b[0;34m,\u001b[0m \u001b[0mrandom_state\u001b[0m\u001b[0;34m=\u001b[0m\u001b[0mRANDOM_STATE\u001b[0m\u001b[0;34m)\u001b[0m\u001b[0;34m\u001b[0m\u001b[0;34m\u001b[0m\u001b[0m\n\u001b[0;32m----> 2\u001b[0;31m \u001b[0mX2D\u001b[0m \u001b[0;34m=\u001b[0m \u001b[0mpca\u001b[0m\u001b[0;34m.\u001b[0m\u001b[0mfit_transform\u001b[0m\u001b[0;34m(\u001b[0m\u001b[0mX_complaint\u001b[0m\u001b[0;34m)\u001b[0m\u001b[0;34m\u001b[0m\u001b[0;34m\u001b[0m\u001b[0m\n\u001b[0m",
            "\u001b[0;32m/usr/local/lib/python3.7/dist-packages/sklearn/decomposition/_pca.py\u001b[0m in \u001b[0;36mfit_transform\u001b[0;34m(self, X, y)\u001b[0m\n\u001b[1;32m    367\u001b[0m         \u001b[0mC\u001b[0m\u001b[0;34m-\u001b[0m\u001b[0mordered\u001b[0m \u001b[0marray\u001b[0m\u001b[0;34m,\u001b[0m \u001b[0muse\u001b[0m \u001b[0;34m'np.ascontiguousarray'\u001b[0m\u001b[0;34m.\u001b[0m\u001b[0;34m\u001b[0m\u001b[0;34m\u001b[0m\u001b[0m\n\u001b[1;32m    368\u001b[0m         \"\"\"\n\u001b[0;32m--> 369\u001b[0;31m         \u001b[0mU\u001b[0m\u001b[0;34m,\u001b[0m \u001b[0mS\u001b[0m\u001b[0;34m,\u001b[0m \u001b[0mV\u001b[0m \u001b[0;34m=\u001b[0m \u001b[0mself\u001b[0m\u001b[0;34m.\u001b[0m\u001b[0m_fit\u001b[0m\u001b[0;34m(\u001b[0m\u001b[0mX\u001b[0m\u001b[0;34m)\u001b[0m\u001b[0;34m\u001b[0m\u001b[0;34m\u001b[0m\u001b[0m\n\u001b[0m\u001b[1;32m    370\u001b[0m         \u001b[0mU\u001b[0m \u001b[0;34m=\u001b[0m \u001b[0mU\u001b[0m\u001b[0;34m[\u001b[0m\u001b[0;34m:\u001b[0m\u001b[0;34m,\u001b[0m \u001b[0;34m:\u001b[0m\u001b[0mself\u001b[0m\u001b[0;34m.\u001b[0m\u001b[0mn_components_\u001b[0m\u001b[0;34m]\u001b[0m\u001b[0;34m\u001b[0m\u001b[0;34m\u001b[0m\u001b[0m\n\u001b[1;32m    371\u001b[0m \u001b[0;34m\u001b[0m\u001b[0m\n",
            "\u001b[0;32m/usr/local/lib/python3.7/dist-packages/sklearn/decomposition/_pca.py\u001b[0m in \u001b[0;36m_fit\u001b[0;34m(self, X)\u001b[0m\n\u001b[1;32m    385\u001b[0m         \u001b[0;31m# This is more informative than the generic one raised by check_array.\u001b[0m\u001b[0;34m\u001b[0m\u001b[0;34m\u001b[0m\u001b[0;34m\u001b[0m\u001b[0m\n\u001b[1;32m    386\u001b[0m         \u001b[0;32mif\u001b[0m \u001b[0missparse\u001b[0m\u001b[0;34m(\u001b[0m\u001b[0mX\u001b[0m\u001b[0;34m)\u001b[0m\u001b[0;34m:\u001b[0m\u001b[0;34m\u001b[0m\u001b[0;34m\u001b[0m\u001b[0m\n\u001b[0;32m--> 387\u001b[0;31m             raise TypeError('PCA does not support sparse input. See '\n\u001b[0m\u001b[1;32m    388\u001b[0m                             'TruncatedSVD for a possible alternative.')\n\u001b[1;32m    389\u001b[0m \u001b[0;34m\u001b[0m\u001b[0m\n",
            "\u001b[0;31mTypeError\u001b[0m: PCA does not support sparse input. See TruncatedSVD for a possible alternative."
          ]
        }
      ]
    }
  ]
}