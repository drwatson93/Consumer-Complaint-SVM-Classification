{
  "nbformat": 4,
  "nbformat_minor": 0,
  "metadata": {
    "colab": {
      "name": "M2-A3",
      "provenance": [],
      "collapsed_sections": [],
      "authorship_tag": "ABX9TyN7PP4Jgzeh52NzLl3rZOnl",
      "include_colab_link": true
    },
    "kernelspec": {
      "name": "python3",
      "display_name": "Python 3"
    },
    "language_info": {
      "name": "python"
    }
  },
  "cells": [
    {
      "cell_type": "markdown",
      "metadata": {
        "id": "view-in-github",
        "colab_type": "text"
      },
      "source": [
        "<a href=\"https://colab.research.google.com/github/drwatson93/M2-A3/blob/main/M2_A3.ipynb\" target=\"_parent\"><img src=\"https://colab.research.google.com/assets/colab-badge.svg\" alt=\"Open In Colab\"/></a>"
      ]
    },
    {
      "cell_type": "markdown",
      "metadata": {
        "id": "6xbACw4LvSeM"
      },
      "source": [
        "This assignment is to practice SVM classification, PCA dimensionality reduction, and multi-classtext classification.The goal is to select and train a classificationmodel for “Consumer Complaint Database”. You can download the CSVfile from this link: https://catalog.data.gov/dataset/consumer-complaint-database\n",
        "\n",
        "1. Load data and remove all the rows before year “2021” (filter based on “Datereceived”). This dataset is huge,so we keep only year 2021 to make it a reasonablesize for this assignment.\n",
        "\n",
        "2. Also drop any row thathas the following products(compositeproducts)\n",
        "\n",
        "*   a.'Credit reporting, credit repair services, or other personal consumer reports'\n",
        "* b.'Credit card or prepaid card'\n",
        "* c.'Checking or savings account'\n",
        "* d.'Bank account or service'\n",
        "* e.'Money transfer, virtual currency, or money service'\n",
        "* f.'Payday loan, title loan, or personal loan'\n",
        "\n",
        "3. Remove every columnexcept “Product”and“Consumer complaint narrative”. We want to predict “product”from “Consumer complaint narrative” text.\n",
        "\n",
        "4. Plot a bar chart to shows the distribution of samples by product. Isthe dataset balanced?\n",
        "\n",
        "5. The main issue for this job is how to encode text to a vector of numbers. We will discus different encoding methodsin module 4 of this program, butfor now we will use “TD-IDF”method. Wewill use the encoder from “sklearn”blindly. If you are interested to learn more, you can read this article: https://medium.com/analytics-vidhya/tf-idf-term-frequency-technique-easiest-explanation-for-text-classification-in-nlp-with-code-8ca3912e58c3\n",
        "\n",
        "6. Use “TfidfVectorizer”from “sklearn.feature_extraction.text”to extract “td-idf”vectorfor “Consumer complaint narrative”. Use the following parameters:\n",
        "\n",
        "*   a.stop_words='english'\n",
        "*   b.sublinear_tf=True\n",
        "* c.ngram_range=(1, 2)\n",
        "\n",
        "7. Use the“td-idf”vector as input features to your model(note how bigthe vector is). For the output,use product classes.\n",
        "\n",
        "8. Our goal is to train SVM classification models. Given the very high number of inputfeatures, it can be very slow (you can try to see it for yourself). Let’s use PCA to reduce the numberof dimensions significantly. Find the number of principal components to preserveminimum 90% variability in data. It may take a few minutes forPCA to run. If your computerhad memory issue, you coulduse IncrementalPCA.\n",
        "\n",
        "9. Try to find the best SVC model (using cross-validation). Try to find the best combination of the following hyperparameters. Don’t useGridSearchas it can be slow. Use your own logic to find the best combination by selecting some candidates smartly.Even though the dataset is not balanced, but you can still use “accuracy”for cross-validation(you can’t use “roc_auc”for multi-class).\n",
        "\n",
        "*   C\n",
        "*   Kernel\n",
        "* Gamma\n",
        "\n",
        "10. Report the accuracy of cross validationand compareit toaccuracy on training data. Do you see any sign of “underfitting”or “overfitting”?\n",
        "\n",
        "11. Print and plot confusionmatrix for theselectedmodel. Analyzethe result.\n",
        "\n"
      ]
    },
    {
      "cell_type": "code",
      "metadata": {
        "id": "gAT-h5bXvBNh"
      },
      "source": [
        "import pandas as pd\n",
        "import numpy as np\n",
        "import re\n",
        "import sklearn\n",
        "from scipy import sparse\n",
        "import matplotlib.pyplot as plt\n",
        "\n",
        "# to make this notebook's output stable across runs\n",
        "RANDOM_STATE = 42\n",
        "np.random.seed(RANDOM_STATE)\n",
        "\n",
        "from sklearn.feature_extraction.text import TfidfVectorizer\n",
        "from sklearn.decomposition import PCA\n",
        "from sklearn.decomposition import IncrementalPCA\n",
        "from sklearn import svm\n",
        "from sklearn import metrics\n",
        "from sklearn.model_selection import cross_val_predict\n",
        "from sklearn.model_selection import GridSearchCV\n",
        "from sklearn.model_selection import train_test_split\n",
        "from sklearn.model_selection import cross_val_score\n",
        "from sklearn.metrics import confusion_matrix, classification_report\n",
        "from sklearn.metrics import plot_confusion_matrix\n"
      ],
      "execution_count": 31,
      "outputs": []
    },
    {
      "cell_type": "code",
      "metadata": {
        "id": "x2VRVYOUx9po"
      },
      "source": [
        "#1. Load data and remove all the rows before year “2021” (filter based on “Datereceived”). This dataset is huge,so we keep only year 2021 to make it a reasonablesize for this assignment.\n",
        "db_link = \"https://files.consumerfinance.gov/ccdb/complaints.csv.zip\"\n",
        "complaint_df = pd.read_csv(db_link)"
      ],
      "execution_count": 32,
      "outputs": []
    },
    {
      "cell_type": "code",
      "metadata": {
        "colab": {
          "base_uri": "https://localhost:8080/",
          "height": 493
        },
        "id": "DijocB738ZFq",
        "outputId": "1e65eb6f-3207-4678-c733-a9367f3013ba"
      },
      "source": [
        "# filtering dataset by year 2021\n",
        "year = 2021\n",
        "complaint_df['Date received'] = pd.to_datetime(complaint_df['Date received'])\n",
        "is_2021 = complaint_df['Date received'].dt.year == year\n",
        "complaint_df_2021 = complaint_df[is_2021]\n",
        "complaint_df_2021.head()"
      ],
      "execution_count": 33,
      "outputs": [
        {
          "output_type": "execute_result",
          "data": {
            "text/html": [
              "<div>\n",
              "<style scoped>\n",
              "    .dataframe tbody tr th:only-of-type {\n",
              "        vertical-align: middle;\n",
              "    }\n",
              "\n",
              "    .dataframe tbody tr th {\n",
              "        vertical-align: top;\n",
              "    }\n",
              "\n",
              "    .dataframe thead th {\n",
              "        text-align: right;\n",
              "    }\n",
              "</style>\n",
              "<table border=\"1\" class=\"dataframe\">\n",
              "  <thead>\n",
              "    <tr style=\"text-align: right;\">\n",
              "      <th></th>\n",
              "      <th>Date received</th>\n",
              "      <th>Product</th>\n",
              "      <th>Sub-product</th>\n",
              "      <th>Issue</th>\n",
              "      <th>Sub-issue</th>\n",
              "      <th>Consumer complaint narrative</th>\n",
              "      <th>Company public response</th>\n",
              "      <th>Company</th>\n",
              "      <th>State</th>\n",
              "      <th>ZIP code</th>\n",
              "      <th>Tags</th>\n",
              "      <th>Consumer consent provided?</th>\n",
              "      <th>Submitted via</th>\n",
              "      <th>Date sent to company</th>\n",
              "      <th>Company response to consumer</th>\n",
              "      <th>Timely response?</th>\n",
              "      <th>Consumer disputed?</th>\n",
              "      <th>Complaint ID</th>\n",
              "    </tr>\n",
              "  </thead>\n",
              "  <tbody>\n",
              "    <tr>\n",
              "      <th>3</th>\n",
              "      <td>2021-03-30</td>\n",
              "      <td>Credit reporting, credit repair services, or o...</td>\n",
              "      <td>Credit reporting</td>\n",
              "      <td>Incorrect information on your report</td>\n",
              "      <td>Information belongs to someone else</td>\n",
              "      <td>NaN</td>\n",
              "      <td>NaN</td>\n",
              "      <td>EQUIFAX, INC.</td>\n",
              "      <td>LA</td>\n",
              "      <td>705XX</td>\n",
              "      <td>NaN</td>\n",
              "      <td>NaN</td>\n",
              "      <td>Web</td>\n",
              "      <td>2021-03-30</td>\n",
              "      <td>Closed with explanation</td>\n",
              "      <td>Yes</td>\n",
              "      <td>NaN</td>\n",
              "      <td>4253621</td>\n",
              "    </tr>\n",
              "    <tr>\n",
              "      <th>9</th>\n",
              "      <td>2021-03-26</td>\n",
              "      <td>Credit reporting, credit repair services, or o...</td>\n",
              "      <td>Credit reporting</td>\n",
              "      <td>Unable to get your credit report or credit score</td>\n",
              "      <td>Other problem getting your report or credit score</td>\n",
              "      <td>NaN</td>\n",
              "      <td>NaN</td>\n",
              "      <td>Experian Information Solutions Inc.</td>\n",
              "      <td>GA</td>\n",
              "      <td>303XX</td>\n",
              "      <td>NaN</td>\n",
              "      <td>NaN</td>\n",
              "      <td>Web</td>\n",
              "      <td>2021-03-26</td>\n",
              "      <td>In progress</td>\n",
              "      <td>Yes</td>\n",
              "      <td>NaN</td>\n",
              "      <td>4250366</td>\n",
              "    </tr>\n",
              "    <tr>\n",
              "      <th>15</th>\n",
              "      <td>2021-03-23</td>\n",
              "      <td>Money transfer, virtual currency, or money ser...</td>\n",
              "      <td>Foreign currency exchange</td>\n",
              "      <td>Fraud or scam</td>\n",
              "      <td>NaN</td>\n",
              "      <td>NaN</td>\n",
              "      <td>NaN</td>\n",
              "      <td>Square Inc.</td>\n",
              "      <td>CA</td>\n",
              "      <td>91387</td>\n",
              "      <td>NaN</td>\n",
              "      <td>NaN</td>\n",
              "      <td>Web</td>\n",
              "      <td>2021-03-23</td>\n",
              "      <td>Closed with explanation</td>\n",
              "      <td>Yes</td>\n",
              "      <td>NaN</td>\n",
              "      <td>4239229</td>\n",
              "    </tr>\n",
              "    <tr>\n",
              "      <th>29</th>\n",
              "      <td>2021-04-05</td>\n",
              "      <td>Credit reporting, credit repair services, or o...</td>\n",
              "      <td>Credit reporting</td>\n",
              "      <td>Incorrect information on your report</td>\n",
              "      <td>Personal information incorrect</td>\n",
              "      <td>NaN</td>\n",
              "      <td>NaN</td>\n",
              "      <td>National Consumer Telecom &amp; Utilities Exchange...</td>\n",
              "      <td>FL</td>\n",
              "      <td>32818</td>\n",
              "      <td>NaN</td>\n",
              "      <td>NaN</td>\n",
              "      <td>Web</td>\n",
              "      <td>2021-04-05</td>\n",
              "      <td>Closed with explanation</td>\n",
              "      <td>Yes</td>\n",
              "      <td>NaN</td>\n",
              "      <td>4270994</td>\n",
              "    </tr>\n",
              "    <tr>\n",
              "      <th>37</th>\n",
              "      <td>2021-04-05</td>\n",
              "      <td>Credit reporting, credit repair services, or o...</td>\n",
              "      <td>Credit reporting</td>\n",
              "      <td>Incorrect information on your report</td>\n",
              "      <td>Information belongs to someone else</td>\n",
              "      <td>NaN</td>\n",
              "      <td>NaN</td>\n",
              "      <td>TRANSUNION INTERMEDIATE HOLDINGS, INC.</td>\n",
              "      <td>GA</td>\n",
              "      <td>310XX</td>\n",
              "      <td>NaN</td>\n",
              "      <td>NaN</td>\n",
              "      <td>Web</td>\n",
              "      <td>2021-04-05</td>\n",
              "      <td>In progress</td>\n",
              "      <td>Yes</td>\n",
              "      <td>NaN</td>\n",
              "      <td>4272430</td>\n",
              "    </tr>\n",
              "  </tbody>\n",
              "</table>\n",
              "</div>"
            ],
            "text/plain": [
              "   Date received  ... Complaint ID\n",
              "3     2021-03-30  ...      4253621\n",
              "9     2021-03-26  ...      4250366\n",
              "15    2021-03-23  ...      4239229\n",
              "29    2021-04-05  ...      4270994\n",
              "37    2021-04-05  ...      4272430\n",
              "\n",
              "[5 rows x 18 columns]"
            ]
          },
          "metadata": {
            "tags": []
          },
          "execution_count": 33
        }
      ]
    },
    {
      "cell_type": "code",
      "metadata": {
        "colab": {
          "base_uri": "https://localhost:8080/"
        },
        "id": "NyoXabqcBAtN",
        "outputId": "4b805e14-8727-4a79-a931-9e3c76a6b7f3"
      },
      "source": [
        "#2. Also drop any row that has the following products(compositeproducts)\n",
        "complaint_df_2021['Product'].unique()"
      ],
      "execution_count": 34,
      "outputs": [
        {
          "output_type": "execute_result",
          "data": {
            "text/plain": [
              "array(['Credit reporting, credit repair services, or other personal consumer reports',\n",
              "       'Money transfer, virtual currency, or money service',\n",
              "       'Credit card or prepaid card', 'Debt collection', 'Mortgage',\n",
              "       'Vehicle loan or lease', 'Checking or savings account',\n",
              "       'Payday loan, title loan, or personal loan', 'Student loan'],\n",
              "      dtype=object)"
            ]
          },
          "metadata": {
            "tags": []
          },
          "execution_count": 34
        }
      ]
    },
    {
      "cell_type": "code",
      "metadata": {
        "colab": {
          "base_uri": "https://localhost:8080/"
        },
        "id": "qjPpAUGsBxXd",
        "outputId": "1a117e38-388d-417c-ec38-b54ab1a7bf76"
      },
      "source": [
        "product_to_drop = ['Credit reporting, credit repair services, or other personal consumer reports',\n",
        "                   'Credit card or prepaid card', \n",
        "                   'Checking or savings account', \n",
        "                   'Bank account or service', \n",
        "                   'Money transfer, virtual currency, or money service', \n",
        "                   'Payday loan, title loan, or personal loan']\n",
        "complaint_df_2021_filtered = complaint_df_2021[~complaint_df_2021['Product'].isin(product_to_drop)]\n",
        "complaint_df_2021_filtered['Product'].unique()"
      ],
      "execution_count": 35,
      "outputs": [
        {
          "output_type": "execute_result",
          "data": {
            "text/plain": [
              "array(['Debt collection', 'Mortgage', 'Vehicle loan or lease',\n",
              "       'Student loan'], dtype=object)"
            ]
          },
          "metadata": {
            "tags": []
          },
          "execution_count": 35
        }
      ]
    },
    {
      "cell_type": "code",
      "metadata": {
        "colab": {
          "base_uri": "https://localhost:8080/"
        },
        "id": "Uri-bTGSN-Rz",
        "outputId": "093f4dc2-e81d-46fa-f9fe-8796ebb55c74"
      },
      "source": [
        "#3.Remove every columnexcept “Product”and“Consumer complaint narrative”. We want to predict “product”from “Consumer complaint narrative” text.\n",
        "complaint_df_2021_filtered_final = complaint_df_2021_filtered[['Product','Consumer complaint narrative']]\n",
        "complaint_df_2021_filtered_final[\"Product\"].value_counts()"
      ],
      "execution_count": 36,
      "outputs": [
        {
          "output_type": "execute_result",
          "data": {
            "text/plain": [
              "Debt collection          17235\n",
              "Mortgage                  7244\n",
              "Vehicle loan or lease     1931\n",
              "Student loan              1075\n",
              "Name: Product, dtype: int64"
            ]
          },
          "metadata": {
            "tags": []
          },
          "execution_count": 36
        }
      ]
    },
    {
      "cell_type": "code",
      "metadata": {
        "colab": {
          "base_uri": "https://localhost:8080/",
          "height": 282
        },
        "id": "7GhbDX1ZRCNp",
        "outputId": "f9d544b0-3061-4942-f673-737760a35ea3"
      },
      "source": [
        "# 4. Plot a bar chart to shows the distribution of samples by product. Isthe dataset balanced? \n",
        "complaint_df_2021_filtered_final.count().plot.bar(rot=0)"
      ],
      "execution_count": 37,
      "outputs": [
        {
          "output_type": "execute_result",
          "data": {
            "text/plain": [
              "<matplotlib.axes._subplots.AxesSubplot at 0x7f36108af310>"
            ]
          },
          "metadata": {
            "tags": []
          },
          "execution_count": 37
        },
        {
          "output_type": "display_data",
          "data": {
            "image/png": "[encoded data removed]",
            "text/plain": [
              "<Figure size 432x288 with 1 Axes>"
            ]
          },
          "metadata": {
            "tags": [],
            "needs_background": "light"
          }
        }
      ]
    },
    {
      "cell_type": "code",
      "metadata": {
        "colab": {
          "base_uri": "https://localhost:8080/"
        },
        "id": "p3hxkHU1liZn",
        "outputId": "619610ab-9387-4cb0-abd6-f4ff29976d80"
      },
      "source": [
        "# Dropping all empty spaces in Consumer complaint narrative\n",
        "complaint_df_2021_filtered_final.replace(r'^\\s+$', np.nan, regex=True)\n",
        "complaint_df_2021_filtered_final.dropna(subset=['Consumer complaint narrative'], inplace=True)\n",
        "complaint_df_2021_filtered_final.info()"
      ],
      "execution_count": 38,
      "outputs": [
        {
          "output_type": "stream",
          "text": [
            "<class 'pandas.core.frame.DataFrame'>\n",
            "Int64Index: 8344 entries, 70268 to 805639\n",
            "Data columns (total 2 columns):\n",
            " #   Column                        Non-Null Count  Dtype \n",
            "---  ------                        --------------  ----- \n",
            " 0   Product                       8344 non-null   object\n",
            " 1   Consumer complaint narrative  8344 non-null   object\n",
            "dtypes: object(2)\n",
            "memory usage: 195.6+ KB\n"
          ],
          "name": "stdout"
        },
        {
          "output_type": "stream",
          "text": [
            "/usr/local/lib/python3.7/dist-packages/ipykernel_launcher.py:3: SettingWithCopyWarning: \n",
            "A value is trying to be set on a copy of a slice from a DataFrame\n",
            "\n",
            "See the caveats in the documentation: https://pandas.pydata.org/pandas-docs/stable/user_guide/indexing.html#returning-a-view-versus-a-copy\n",
            "  This is separate from the ipykernel package so we can avoid doing imports until\n"
          ],
          "name": "stderr"
        }
      ]
    },
    {
      "cell_type": "code",
      "metadata": {
        "id": "99aMuRhCmT-N"
      },
      "source": [
        "# We are now reducing the dataset to 25% of its original size for usability\n",
        "sample_df = complaint_df_2021_filtered_final.sample(frac=0.25)"
      ],
      "execution_count": 39,
      "outputs": []
    },
    {
      "cell_type": "code",
      "metadata": {
        "colab": {
          "base_uri": "https://localhost:8080/"
        },
        "id": "ih92zHnMmeZ4",
        "outputId": "f6b41e14-c185-4920-b750-776dc8cb6625"
      },
      "source": [
        "sample_df.info()"
      ],
      "execution_count": 40,
      "outputs": [
        {
          "output_type": "stream",
          "text": [
            "<class 'pandas.core.frame.DataFrame'>\n",
            "Int64Index: 2086 entries, 730822 to 641946\n",
            "Data columns (total 2 columns):\n",
            " #   Column                        Non-Null Count  Dtype \n",
            "---  ------                        --------------  ----- \n",
            " 0   Product                       2086 non-null   object\n",
            " 1   Consumer complaint narrative  2086 non-null   object\n",
            "dtypes: object(2)\n",
            "memory usage: 48.9+ KB\n"
          ],
          "name": "stdout"
        }
      ]
    },
    {
      "cell_type": "code",
      "metadata": {
        "colab": {
          "base_uri": "https://localhost:8080/"
        },
        "id": "liJqsyO5E3Bi",
        "outputId": "06860dfa-520d-4b82-f5cb-d5b39b0d4ddd"
      },
      "source": [
        "# 6. Use “TfidfVectorizer”from “sklearn.feature_extraction.text”to extract “td-idf”vectorfor “Consumer complaint narrative”. Use the following parameters:\n",
        "vectorizer = TfidfVectorizer(stop_words='english', sublinear_tf=True, ngram_range=(1,2))\n",
        "X_complaint = vectorizer.fit_transform(sample_df['Consumer complaint narrative'])\n",
        "X_complaint = X_complaint.toarray()\n",
        "print(np.shape(X_complaint))\n",
        "print(type(X_complaint))"
      ],
      "execution_count": 41,
      "outputs": [
        {
          "output_type": "stream",
          "text": [
            "(2086, 114040)\n",
            "<class 'numpy.ndarray'>\n"
          ],
          "name": "stdout"
        }
      ]
    },
    {
      "cell_type": "code",
      "metadata": {
        "id": "_Bqf16XlsUVu"
      },
      "source": [
        "# 7. Let’s use PCA to reduce the numberof dimensions significantly. Find the number of principal components to preserveminimum 90% variability in data. \n",
        "# It may take a few minutes forPCA to run. If your computerhad memory issue, you coulduse IncrementalPCA.\n",
        "pca = PCA()\n",
        "pca.fit(X_complaint)\n",
        "cumsum = np.cumsum(pca.explained_variance_ratio_)\n",
        "top_d = np.argmax(cumsum >= 0.90) + 1"
      ],
      "execution_count": 42,
      "outputs": []
    },
    {
      "cell_type": "code",
      "metadata": {
        "id": "d74vFkFEswun",
        "colab": {
          "base_uri": "https://localhost:8080/"
        },
        "outputId": "b6d45a62-99e4-4e2e-a8e7-6555036e8e10"
      },
      "source": [
        "top_d"
      ],
      "execution_count": 43,
      "outputs": [
        {
          "output_type": "execute_result",
          "data": {
            "text/plain": [
              "1641"
            ]
          },
          "metadata": {
            "tags": []
          },
          "execution_count": 43
        }
      ]
    },
    {
      "cell_type": "code",
      "metadata": {
        "id": "cd1LsZl1sfd-",
        "colab": {
          "base_uri": "https://localhost:8080/",
          "height": 501
        },
        "outputId": "d66821fa-3594-4daa-936d-9c3480355f0d"
      },
      "source": [
        "# Ploting dimessional curve.\n",
        "plt.figure(figsize=(12,8))\n",
        "plt.plot(cumsum, linewidth=3)\n",
        "plt.axis([0, 2000, 0, 1])\n",
        "plt.xlabel(\"Dimensions\")\n",
        "plt.ylabel(\"Explained Variance\")\n",
        "plt.plot([top_d, top_d], [0, 0.90], \"k:\")\n",
        "plt.plot([0, top_d], [0.90, 0.90], \"k:\")\n",
        "plt.plot(top_d, 0.90, \"ko\")\n",
        "plt.grid(True)\n",
        "plt.show()"
      ],
      "execution_count": 44,
      "outputs": [
        {
          "output_type": "display_data",
          "data": {
            "image/png": "[encoded data removed]",
            "text/plain": [
              "<Figure size 864x576 with 1 Axes>"
            ]
          },
          "metadata": {
            "tags": [],
            "needs_background": "light"
          }
        }
      ]
    },
    {
      "cell_type": "code",
      "metadata": {
        "id": "8IRV9-8VoBeC"
      },
      "source": [
        "# creating PCA with best componetns to retain 90% of data.\n",
        "pca = PCA(n_components = top_d, random_state=RANDOM_STATE)\n",
        "X_complaint_reduced = pca.fit_transform(X_complaint)"
      ],
      "execution_count": null,
      "outputs": []
    },
    {
      "cell_type": "code",
      "metadata": {
        "colab": {
          "base_uri": "https://localhost:8080/"
        },
        "id": "GBXKo8VSsxOc",
        "outputId": "7d33789f-c119-411d-dca4-dd33332fb442"
      },
      "source": [
        "print(np.sum(pca.explained_variance_ratio_))\n",
        "print(type(X_complaint_reduced))\n",
        "print(X_complaint_reduced.shape)"
      ],
      "execution_count": null,
      "outputs": [
        {
          "output_type": "stream",
          "text": [
            "0.8777114401417037\n",
            "<class 'numpy.ndarray'>\n",
            "(2086, 1602)\n"
          ],
          "name": "stdout"
        }
      ]
    },
    {
      "cell_type": "code",
      "metadata": {
        "id": "B_jFPMoAmnu7"
      },
      "source": [
        "# Need to train an linearSVC, SGDClassifier, SVC on a split data\n",
        "X_complaint_train, X_complaint_test, y_complaint_train, y_complaint_test  = train_test_split(X_complaint_reduced, sample_df[\"Product\"], test_size=0.3, random_state=RANDOM_STATE)"
      ],
      "execution_count": null,
      "outputs": []
    },
    {
      "cell_type": "code",
      "metadata": {
        "id": "XHnS2yLYm5oN"
      },
      "source": [
        "#SVC\n",
        "svc_clf = svm.SVC(kernel='linear', C=1, gamma='scale').fit(X_complaint_train, y_complaint_train)\n",
        "scores = cross_val_score(svc_clf, X_complaint_train, y_complaint_train, cv=5, scoring='accuracy')"
      ],
      "execution_count": null,
      "outputs": []
    },
    {
      "cell_type": "code",
      "metadata": {
        "colab": {
          "base_uri": "https://localhost:8080/"
        },
        "id": "QXkBKJhEAeYw",
        "outputId": "71797cd0-a440-4619-a457-e83b7ae67f98"
      },
      "source": [
        "print(svc_clf.score(X_complaint_test, y_complaint_test)\n",
        "print(scores)\n",
        "print(np.mean(scores)"
      ],
      "execution_count": null,
      "outputs": [
        {
          "output_type": "stream",
          "text": [
            "0.9\n",
            "[0.88013699 0.90068493 0.87671233 0.88356164 0.87671233]\n",
            "0.88\n"
          ],
          "name": "stdout"
        }
      ]
    },
    {
      "cell_type": "code",
      "metadata": {
        "id": "CCgohpr9A2Ez"
      },
      "source": [
        "def gridsearch(model, params):\n",
        "    gs = GridSearchCV(model, params, verbose = 2, cv = 5, scoring = 'accuracy', n_jobs = -1)\n",
        "    gs.fit(X_complaint_train, y_complaint_train)\n",
        "    print('\\nBest params: ', gs.best_params_)\n",
        "    print('\\nBest estimator: ', gs.best_estimator_,)\n",
        "    print('\\nBest auc on training set: ', gs.best_score_)\n",
        "    print('\\nBest auc on test set: ', gs.score(X_complaint_test, y_complaint_test))\n",
        "    return gs.best_estimator_"
      ],
      "execution_count": null,
      "outputs": []
    },
    {
      "cell_type": "code",
      "metadata": {
        "colab": {
          "base_uri": "https://localhost:8080/"
        },
        "id": "t3ikKuK7BYE6",
        "outputId": "d1eac845-ecdb-4dda-8b50-c1fb49e176d4"
      },
      "source": [
        "svc_clf = svm.SVC()\n",
        "grid_params = {\n",
        "    'kernel': ['linear', 'poly'],\n",
        "    'C': [1, 5, 10],\n",
        "    'gamma': [0.1, 5]\n",
        "}\n",
        "\n",
        "best_svc_model = gridsearch(svc_clf, grid_params)"
      ],
      "execution_count": null,
      "outputs": [
        {
          "output_type": "stream",
          "text": [
            "Fitting 5 folds for each of 12 candidates, totalling 60 fits\n"
          ],
          "name": "stdout"
        },
        {
          "output_type": "stream",
          "text": [
            "[Parallel(n_jobs=-1)]: Using backend LokyBackend with 2 concurrent workers.\n",
            "[Parallel(n_jobs=-1)]: Done  37 tasks      | elapsed:  2.0min\n",
            "[Parallel(n_jobs=-1)]: Done  60 out of  60 | elapsed:  3.4min finished\n"
          ],
          "name": "stderr"
        },
        {
          "output_type": "stream",
          "text": [
            "\n",
            "Best params:  {'C': 5, 'gamma': 0.1, 'kernel': 'linear'}\n",
            "\n",
            "Best estimator:  SVC(C=5, break_ties=False, cache_size=200, class_weight=None, coef0=0.0,\n",
            "    decision_function_shape='ovr', degree=3, gamma=0.1, kernel='linear',\n",
            "    max_iter=-1, probability=False, random_state=None, shrinking=True,\n",
            "    tol=0.001, verbose=False)\n",
            "\n",
            "Best auc on training set:  0.9006849315068493\n",
            "\n",
            "Best auc on test set:  0.9057507987220448\n"
          ],
          "name": "stdout"
        }
      ]
    },
    {
      "cell_type": "code",
      "metadata": {
        "colab": {
          "base_uri": "https://localhost:8080/"
        },
        "id": "_mAhpmStQd5M",
        "outputId": "fb449c14-a911-40c8-99e1-58a67a25af11"
      },
      "source": [
        "# matrix and metrics report \n",
        "y_pred = best_svc_model.predict(X_complaint_test)\n",
        "print(confusion_matrix(y_complaint_test, y_pred))\n",
        "print(classification_report(y_complaint_test, y_pred))"
      ],
      "execution_count": null,
      "outputs": [
        {
          "output_type": "stream",
          "text": [
            "[[358   8   0   1]\n",
            " [  7 177   0   2]\n",
            " [  5   7   9   0]\n",
            " [ 15  14   0  23]]\n",
            "                       precision    recall  f1-score   support\n",
            "\n",
            "      Debt collection       0.93      0.98      0.95       367\n",
            "             Mortgage       0.86      0.95      0.90       186\n",
            "         Student loan       1.00      0.43      0.60        21\n",
            "Vehicle loan or lease       0.88      0.44      0.59        52\n",
            "\n",
            "             accuracy                           0.91       626\n",
            "            macro avg       0.92      0.70      0.76       626\n",
            "         weighted avg       0.91      0.91      0.90       626\n",
            "\n"
          ],
          "name": "stdout"
        }
      ]
    },
    {
      "cell_type": "code",
      "metadata": {
        "colab": {
          "base_uri": "https://localhost:8080/",
          "height": 743
        },
        "id": "wqYUxHK0SR3B",
        "outputId": "ac6419f9-f831-427f-ffad-87be43f1d613"
      },
      "source": [
        "# plotting confusion matrix\n",
        "titles_options = [(\"Confusion matrix, without normalization\", None),\n",
        "                  (\"Normalized confusion matrix\", 'true')]\n",
        "for title, normalize in titles_options:\n",
        "    disp = plot_confusion_matrix(best_svc_model, X_complaint_test, y_complaint_test,\n",
        "                                 cmap=plt.cm.Blues,\n",
        "                                 normalize=normalize)\n",
        "    disp.ax_.set_title(title)\n",
        "\n",
        "    print(title)\n",
        "    print(disp.confusion_matrix)\n",
        "\n",
        "plt.show()"
      ],
      "execution_count": null,
      "outputs": [
        {
          "output_type": "stream",
          "text": [
            "Confusion matrix, without normalization\n",
            "[[358   8   0   1]\n",
            " [  7 177   0   2]\n",
            " [  5   7   9   0]\n",
            " [ 15  14   0  23]]\n",
            "Normalized confusion matrix\n",
            "[[0.97547684 0.02179837 0.         0.0027248 ]\n",
            " [0.03763441 0.9516129  0.         0.01075269]\n",
            " [0.23809524 0.33333333 0.42857143 0.        ]\n",
            " [0.28846154 0.26923077 0.         0.44230769]]\n"
          ],
          "name": "stdout"
        },
        {
          "output_type": "display_data",
          "data": {
            "image/png": "[encoded data removed]",
            "text/plain": [
              "<Figure size 432x288 with 2 Axes>"
            ]
          },
          "metadata": {
            "tags": [],
            "needs_background": "light"
          }
        },
        {
          "output_type": "display_data",
          "data": {
            "image/png": "[encoded data removed]",
            "text/plain": [
              "<Figure size 432x288 with 2 Axes>"
            ]
          },
          "metadata": {
            "tags": [],
            "needs_background": "light"
          }
        }
      ]
    },
    {
      "cell_type": "code",
      "metadata": {
        "colab": {
          "base_uri": "https://localhost:8080/"
        },
        "id": "YB8OEXhMkobz",
        "outputId": "dd3466d4-00c9-4dfc-d71d-b474a1150a9e"
      },
      "source": [
        "# testing with no PCA on 25% dataset after TfidfVectorizer.\n",
        "\n",
        "# split data\n",
        "X_complaint_train, X_complaint_test, y_complaint_train, y_complaint_test  = train_test_split(X_complaint, sample_df[\"Product\"], test_size=0.3, random_state=RANDOM_STATE)\n",
        "print('X_train Dataset shape: {}'.format(X_complaint_train.shape))\n",
        "print('X_test Dataset shape: {}'.format(X_complaint_test.shape))\n",
        "print('y_train Dataset shape: {}'.format(y_complaint_train.shape))\n",
        "print('y_test Dataset shape: {}'.format(y_complaint_test.shape))"
      ],
      "execution_count": null,
      "outputs": [
        {
          "output_type": "stream",
          "text": [
            "X_train Dataset shape: (1460, 114040)\n",
            "X_test Dataset shape: (626, 114040)\n",
            "y_train Dataset shape: (1460,)\n",
            "y_test Dataset shape: (626,)\n"
          ],
          "name": "stdout"
        }
      ]
    },
    {
      "cell_type": "code",
      "metadata": {
        "id": "XtX6eCEBlm-d"
      },
      "source": [
        "svc_clf = svm.SVC(kernel='linear', C=5, gamma=0.1).fit(X_complaint_train, y_complaint_train)\n",
        "scores = cross_val_score(svc_clf, X_complaint_train, y_complaint_train, cv=5, scoring='accuracy')"
      ],
      "execution_count": null,
      "outputs": []
    },
    {
      "cell_type": "code",
      "metadata": {
        "colab": {
          "base_uri": "https://localhost:8080/"
        },
        "id": "j5ssHNjqle61",
        "outputId": "a485c207-4408-415d-ddcb-443273126c5c"
      },
      "source": [
        "y_pred = svc_clf.predict(X_complaint_test)\n",
        "print(confusion_matrix(y_complaint_test, y_pred))\n",
        "print(classification_report(y_complaint_test, y_pred))"
      ],
      "execution_count": null,
      "outputs": [
        {
          "output_type": "stream",
          "text": [
            "[[361   6   0   0]\n",
            " [  6 179   0   1]\n",
            " [  5   9   7   0]\n",
            " [ 18  14   0  20]]\n",
            "                       precision    recall  f1-score   support\n",
            "\n",
            "      Debt collection       0.93      0.98      0.95       367\n",
            "             Mortgage       0.86      0.96      0.91       186\n",
            "         Student loan       1.00      0.33      0.50        21\n",
            "Vehicle loan or lease       0.95      0.38      0.55        52\n",
            "\n",
            "             accuracy                           0.91       626\n",
            "            macro avg       0.93      0.67      0.73       626\n",
            "         weighted avg       0.91      0.91      0.89       626\n",
            "\n"
          ],
          "name": "stdout"
        }
      ]
    },
    {
      "cell_type": "code",
      "metadata": {
        "colab": {
          "base_uri": "https://localhost:8080/",
          "height": 743
        },
        "id": "o1A8KZMClhJD",
        "outputId": "5b2d25bd-7269-4430-b9ea-867f71d3c4f4"
      },
      "source": [
        "titles_options = [(\"Confusion matrix, without normalization\", None),\n",
        "                  (\"Normalized confusion matrix\", 'true')]\n",
        "for title, normalize in titles_options:\n",
        "    disp = plot_confusion_matrix(svc_clf, X_complaint_test, y_complaint_test,\n",
        "                                 cmap=plt.cm.Blues,\n",
        "                                 normalize=normalize)\n",
        "    disp.ax_.set_title(title)\n",
        "\n",
        "    print(title)\n",
        "    print(disp.confusion_matrix)\n",
        "\n",
        "plt.show()"
      ],
      "execution_count": 30,
      "outputs": [
        {
          "output_type": "stream",
          "text": [
            "Confusion matrix, without normalization\n",
            "[[361   6   0   0]\n",
            " [  6 179   0   1]\n",
            " [  5   9   7   0]\n",
            " [ 18  14   0  20]]\n",
            "Normalized confusion matrix\n",
            "[[0.98365123 0.01634877 0.         0.        ]\n",
            " [0.03225806 0.96236559 0.         0.00537634]\n",
            " [0.23809524 0.42857143 0.33333333 0.        ]\n",
            " [0.34615385 0.26923077 0.         0.38461538]]\n"
          ],
          "name": "stdout"
        },
        {
          "output_type": "display_data",
          "data": {
            "image/png": "[encoded data removed]",
            "text/plain": [
              "<Figure size 432x288 with 2 Axes>"
            ]
          },
          "metadata": {
            "tags": [],
            "needs_background": "light"
          }
        },
        {
          "output_type": "display_data",
          "data": {
            "image/png": "[encoded data removed]",
            "text/plain": [
              "<Figure size 432x288 with 2 Axes>"
            ]
          },
          "metadata": {
            "tags": [],
            "needs_background": "light"
          }
        }
      ]
    }
  ]
}